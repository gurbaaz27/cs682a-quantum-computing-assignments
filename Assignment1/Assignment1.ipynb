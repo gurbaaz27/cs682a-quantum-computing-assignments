{
 "cells": [
  {
   "cell_type": "markdown",
   "metadata": {
    "cell_id": "11d89072-d352-4bfc-8349-6f0eae8dcadd",
    "deepnote_cell_height": 110,
    "deepnote_cell_type": "markdown",
    "heading_collapsed": true
   },
   "source": [
    "## Demo 1: How to Create Superpostion in Qiskit?"
   ]
  },
  {
   "cell_type": "code",
   "execution_count": 19,
   "metadata": {
    "cell_id": "00001-404d593d-e3d1-4211-b97d-94b5bd42c5bc",
    "deepnote_cell_height": 238.1875,
    "deepnote_cell_type": "code",
    "deepnote_to_be_reexecuted": false,
    "execution_millis": 1632,
    "execution_start": 1661187634552,
    "hidden": true,
    "source_hash": "a5bff6c2"
   },
   "outputs": [],
   "source": [
    "from qiskit import QuantumCircuit, Aer, assemble, execute, BasicAer\n",
    "from qiskit_textbook.tools import array_to_latex\n",
    "from qiskit.tools.visualization import plot_histogram\n",
    "import numpy as np"
   ]
  },
  {
   "cell_type": "markdown",
   "metadata": {
    "cell_id": "00002-d4058d1e-9480-42f9-9f83-b36f98b081dc",
    "deepnote_cell_height": 64.84375,
    "deepnote_cell_type": "markdown",
    "hidden": true
   },
   "source": [
    "### Add Hadamard gate to a qubit initialized at $| 0 \\rangle$"
   ]
  },
  {
   "cell_type": "code",
   "execution_count": 20,
   "metadata": {
    "cell_id": "00003-35579028-4f1a-422e-bf6b-7630c64c190f",
    "code_folding": [],
    "deepnote_cell_height": 297,
    "deepnote_cell_type": "code",
    "deepnote_output_heights": [
     79
    ],
    "deepnote_to_be_reexecuted": true,
    "hidden": true,
    "source_hash": "290f042e"
   },
   "outputs": [
    {
     "data": {
      "image/png": "[encoded data removed]",
      "text/plain": [
       "<Figure size 246.346x117.056 with 1 Axes>"
      ]
     },
     "execution_count": 20,
     "metadata": {},
     "output_type": "execute_result"
    }
   ],
   "source": [
    "# create a circuit with single quantum register \n",
    "circ = QuantumCircuit(1)\n",
    "\n",
    "# initial_state = [0, 1]\n",
    "# circ.initialize(initial_state, 0) # Apply initialisation operation to the 0th qubit\n",
    "\n",
    "#add Hadamard operation to the register, 0 showing its index\n",
    "circ.h(0)                  \n",
    "\n",
    "#draw the circuit\n",
    "circ.draw(initial_state=True, cregbundle=False, output='mpl')"
   ]
  },
  {
   "cell_type": "markdown",
   "metadata": {
    "cell_id": "00004-72bf986b-cbed-439a-9baf-337cba38366e",
    "deepnote_cell_height": 74.9375,
    "deepnote_cell_type": "markdown",
    "hidden": true
   },
   "source": [
    "### Visualizing the state $\\frac{ |0 \\rangle + | 1 \\rangle }{\\sqrt 2}$ on the qubit"
   ]
  },
  {
   "cell_type": "code",
   "execution_count": 21,
   "metadata": {
    "cell_id": "00005-bb383fb3-2d01-4ba1-802e-3082ff0bf7cc",
    "code_folding": [],
    "deepnote_cell_height": 418.1875,
    "deepnote_cell_type": "code",
    "deepnote_output_heights": [
     20.1875
    ],
    "deepnote_to_be_reexecuted": true,
    "execution_start": 1661187622288,
    "hidden": true,
    "source_hash": "211c5da5"
   },
   "outputs": [
    {
     "data": {
      "text/latex": [
       "$\\displaystyle \n",
       "\\text{Statevector} = \\begin{bmatrix}\n",
       "\\tfrac{1}{\\sqrt{2}} \\\\\n",
       "\\tfrac{1}{\\sqrt{2}}\n",
       "\\end{bmatrix}\n",
       "$"
      ],
      "text/plain": [
       "<IPython.core.display.Math object>"
      ]
     },
     "metadata": {},
     "output_type": "display_data"
    }
   ],
   "source": [
    "#obtain a state_vector_simulator\n",
    "simulator = Aer.get_backend('statevector_simulator')\n",
    "\n",
    "#assemble the circuit\n",
    "qobj = assemble(circ)\n",
    "\n",
    "#run simulator to get final state\n",
    "final_state = simulator.run(qobj).result().get_statevector()\n",
    "\n",
    "#display the state vector\n",
    "array_to_latex(final_state, pretext=\"\\\\text{Statevector} = \")\n",
    "#print(final_state)"
   ]
  },
  {
   "cell_type": "markdown",
   "metadata": {
    "cell_id": "00006-ccf59c01-cc01-4e7e-8d4a-1b8dceff16a2",
    "deepnote_cell_height": 70,
    "deepnote_cell_type": "markdown",
    "heading_collapsed": true
   },
   "source": [
    "## Demo 2: How to perform measurement ?"
   ]
  },
  {
   "cell_type": "markdown",
   "metadata": {
    "cell_id": "00007-c0a7914d-4079-42d2-914b-a730d2fa13d0",
    "deepnote_cell_height": 94,
    "deepnote_cell_type": "markdown",
    "heading_collapsed": true,
    "hidden": true
   },
   "source": [
    "### Create a quantum register with a superposition and a classical register"
   ]
  },
  {
   "cell_type": "code",
   "execution_count": 22,
   "metadata": {
    "cell_id": "00008-3f52c384-15d8-4596-9bd9-463f0374b2ec",
    "deepnote_cell_height": 257,
    "deepnote_cell_type": "code",
    "deepnote_output_heights": [
     124
    ],
    "deepnote_to_be_reexecuted": true,
    "hidden": true,
    "source_hash": "12a1c825"
   },
   "outputs": [
    {
     "data": {
      "image/png": "[encoded data removed]",
      "text/plain": [
       "<Figure size 246.346x200.667 with 1 Axes>"
      ]
     },
     "execution_count": 22,
     "metadata": {},
     "output_type": "execute_result"
    }
   ],
   "source": [
    "circ = QuantumCircuit(1,1)     # Create circuit with a quantum register  and a classical register\n",
    "circ.h(0)                                        # Add Hadamard gate, 0 denotes index of the quantum register\n",
    "circ.draw(initial_state=True, cregbundle=False, output='mpl')"
   ]
  },
  {
   "cell_type": "markdown",
   "metadata": {
    "cell_id": "00009-bacfbaef-511c-4c8b-a336-711208752a96",
    "deepnote_cell_height": 62,
    "deepnote_cell_type": "markdown",
    "heading_collapsed": true,
    "hidden": true
   },
   "source": [
    "### Measure the quantum register on the classical register"
   ]
  },
  {
   "cell_type": "code",
   "execution_count": 23,
   "metadata": {
    "cell_id": "00010-6c61e9b0-e667-4129-a7f4-85086b7458a3",
    "deepnote_cell_height": 239,
    "deepnote_cell_type": "code",
    "deepnote_output_heights": [
     124
    ],
    "deepnote_to_be_reexecuted": true,
    "hidden": true,
    "source_hash": "df509089"
   },
   "outputs": [
    {
     "data": {
      "image/png": "[encoded data removed]",
      "text/plain": [
       "<Figure size 329.957x200.667 with 1 Axes>"
      ]
     },
     "execution_count": 23,
     "metadata": {},
     "output_type": "execute_result"
    }
   ],
   "source": [
    "circ.measure([0],[0])                    #  [0], [0] to tell first quantum register to be measured in the first classical register\n",
    "circ.draw(initial_state=True, cregbundle=False, output='mpl') "
   ]
  },
  {
   "cell_type": "markdown",
   "metadata": {
    "cell_id": "00011-a0c9fcf8-6fa6-4a7a-8da0-32fa9d45ecf9",
    "deepnote_cell_height": 62,
    "deepnote_cell_type": "markdown",
    "heading_collapsed": true,
    "hidden": true
   },
   "source": [
    "### Simulate the circuit and observe the statevector"
   ]
  },
  {
   "cell_type": "code",
   "execution_count": 24,
   "metadata": {
    "cell_id": "00012-260792bf-b6a2-474d-8a22-121f385293b3",
    "deepnote_cell_height": 171.1875,
    "deepnote_cell_type": "code",
    "deepnote_output_heights": [
     20.1875
    ],
    "deepnote_to_be_reexecuted": true,
    "hidden": true,
    "source_hash": "ad92b7eb"
   },
   "outputs": [
    {
     "data": {
      "text/latex": [
       "$\\displaystyle \n",
       "\\text{Statevector} = \\begin{bmatrix}\n",
       "0 \\\\\n",
       "1\n",
       "\\end{bmatrix}\n",
       "$"
      ],
      "text/plain": [
       "<IPython.core.display.Math object>"
      ]
     },
     "metadata": {},
     "output_type": "display_data"
    }
   ],
   "source": [
    "simulator = Aer.get_backend('statevector_simulator')                          # obtain a state_vector_simulator\n",
    "qobj = assemble(circ)                                                                                         # assemble the circuit\n",
    "final_state = simulator.run(qobj).result().get_statevector()                # run simulator to get get final state\n",
    "array_to_latex(final_state, pretext=\"\\\\text{Statevector} = \")              #d isplay the state vector"
   ]
  },
  {
   "cell_type": "markdown",
   "metadata": {
    "cell_id": "00013-13afbd30-36c9-43a9-8185-8399797c8cea",
    "deepnote_cell_height": 62,
    "deepnote_cell_type": "markdown",
    "heading_collapsed": true,
    "hidden": true
   },
   "source": [
    "### Simulate the circuit 100 times and observe output"
   ]
  },
  {
   "cell_type": "code",
   "execution_count": 25,
   "metadata": {
    "cell_id": "00014-5b7ec20a-65a2-493e-8743-58d8eacb9511",
    "deepnote_cell_height": 540,
    "deepnote_cell_type": "code",
    "deepnote_output_heights": [
     null,
     312
    ],
    "deepnote_to_be_reexecuted": true,
    "hidden": true,
    "scrolled": true,
    "source_hash": "33850620"
   },
   "outputs": [
    {
     "name": "stdout",
     "output_type": "stream",
     "text": [
      "{'1': 42, '0': 58}\n"
     ]
    },
    {
     "data": {
      "image/png": "[encoded data removed]",
      "text/plain": [
       "<Figure size 700x500 with 1 Axes>"
      ]
     },
     "execution_count": 25,
     "metadata": {},
     "output_type": "execute_result"
    }
   ],
   "source": [
    "simulator = Aer.get_backend('qasm_simulator')\n",
    "job =  execute(circ, backend = simulator, shots=100) \n",
    "result = job.result()\n",
    "counts = result.get_counts(circ)\n",
    "print(counts)\n",
    "plot_histogram(counts)"
   ]
  },
  {
   "cell_type": "markdown",
   "metadata": {},
   "source": [
    "### Task 0:                                           "
   ]
  },
  {
   "cell_type": "markdown",
   "metadata": {},
   "source": [
    "#### i) Create swap circuit without using inbuilt swap function.                                                 (5)"
   ]
  },
  {
   "cell_type": "markdown",
   "metadata": {},
   "source": [
    "#### ii) Visualize your circuit and verify using state-vector simulator. (3)"
   ]
  },
  {
   "cell_type": "markdown",
   "metadata": {},
   "source": [
    "#### iii) Measure the qubits using classical registers. (2)"
   ]
  },
  {
   "cell_type": "markdown",
   "metadata": {
    "cell_id": "a4a56c13-70fa-4f76-be99-fe78dc73d206",
    "deepnote_cell_height": 62,
    "deepnote_cell_type": "markdown",
    "heading_collapsed": true
   },
   "source": [
    "### Task 1: Create Equal Superposition on 2 qubits. (10)"
   ]
  },
  {
   "cell_type": "markdown",
   "metadata": {
    "cell_id": "00001-936ae4e6-77b1-4997-bc9a-3f976b752504",
    "deepnote_cell_height": 74.9375,
    "deepnote_cell_type": "markdown",
    "heading_collapsed": true
   },
   "source": [
    "### Task 2: "
   ]
  },
  {
   "cell_type": "markdown",
   "metadata": {},
   "source": [
    "#### i) Create Entangled State $\\frac{|00\\rangle + |11\\rangle}{\\sqrt 2}$.   (5)"
   ]
  },
  {
   "cell_type": "markdown",
   "metadata": {},
   "source": [
    "#### ii) Measure 1st qubit, 2nd qubit, and then both qubit. (5)"
   ]
  },
  {
   "cell_type": "markdown",
   "metadata": {
    "cell_id": "00002-b6a80dc3-3aa7-44f7-823c-282f562b67fd",
    "deepnote_cell_height": 54,
    "deepnote_cell_type": "markdown",
    "hidden": true
   },
   "source": [
    "#### ii) Verify using state-vector simulator that the circuit works (5)"
   ]
  },
  {
   "cell_type": "markdown",
   "metadata": {
    "cell_id": "00003-2d2460fa-3ec9-443e-8541-24e3cd4fbaa5",
    "deepnote_cell_height": 134.34375,
    "deepnote_cell_type": "markdown",
    "heading_collapsed": true
   },
   "source": [
    "### Task 3: "
   ]
  },
  {
   "cell_type": "markdown",
   "metadata": {},
   "source": [
    "#### i) Perform CNOT operation $x, y, z \\rightarrow x, y, x \\oplus z$, without direct interaction between $x$ and $z$. (10)"
   ]
  },
  {
   "cell_type": "markdown",
   "metadata": {},
   "source": [
    "#### ii) Show the action of the circuit as matrix. (5)"
   ]
  },
  {
   "cell_type": "markdown",
   "metadata": {
    "created_in_deepnote_cell": true,
    "deepnote_cell_type": "markdown",
    "tags": []
   },
   "source": [
    "<a style='text-decoration:none;line-height:16px;display:flex;color:#5B5B62;padding:10px;justify-content:end;' href='https://deepnote.com?utm_source=created-in-deepnote-cell&projectId=ca07e71c-a109-409c-8272-99812e4a09be' target=\"_blank\">\n",
    "<img alt='Created in deepnote.com' style='display:inline;max-height:16px;margin:0px;margin-right:7.5px;' src='data:image/svg+xml;base64,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' > </img>\n",
    "Created in <span style='font-weight:600;margin-left:4px;'>Deepnote</span></a>"
   ]
  }
 ],
 "metadata": {
  "deepnote": {},
  "deepnote_execution_queue": [],
  "deepnote_notebook_id": "d3b7f584-f396-46c7-9f78-2719922fc637",
  "kernelspec": {
   "display_name": "Python 3.10.4 ('venv': venv)",
   "language": "python",
   "name": "python3"
  },
  "language_info": {
   "codemirror_mode": {
    "name": "ipython",
    "version": 3
   },
   "file_extension": ".py",
   "mimetype": "text/x-python",
   "name": "python",
   "nbconvert_exporter": "python",
   "pygments_lexer": "ipython3",
   "version": "3.10.4"
  },
  "vscode": {
   "interpreter": {
    "hash": "dc84f59174334d03e3fbfffc88ffe8dcaa983603e552a6887d9ca116c8b7cb22"
   }
  }
 },
 "nbformat": 4,
 "nbformat_minor": 4
}
